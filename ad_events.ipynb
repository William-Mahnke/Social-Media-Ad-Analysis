{
 "cells": [
  {
   "cell_type": "markdown",
   "id": "c210d001",
   "metadata": {},
   "source": [
    "### Analyzing Ad Events\n",
    "\n",
    "A combination of some exploratory data analysis of `ad_events.csv` with analysis of ad performance"
   ]
  },
  {
   "cell_type": "code",
   "execution_count": 1,
   "id": "417ba0d0",
   "metadata": {},
   "outputs": [],
   "source": [
    "# necessary libraries\n",
    "import pandas as pd\n",
    "import numpy as np\n",
    "import os\n",
    "import matplotlib.pyplot as plt\n",
    "import seaborn as sns"
   ]
  },
  {
   "cell_type": "code",
   "execution_count": 2,
   "id": "9ef78627",
   "metadata": {},
   "outputs": [],
   "source": [
    "# loading all of the datasets\n",
    "# will start with EDA just on ad_events but then merge the tables to analyze ad performance\n",
    "path = os.getcwd()\n",
    "\n",
    "events = pd.read_csv(path + '/data/ad_events.csv')\n",
    "ads = pd.read_csv(path + '/data/ads.csv')\n",
    "campaigns = pd.read_csv(path + '/data/campaigns.csv')\n",
    "users = pd.read_csv(path + '/data/users.csv')"
   ]
  },
  {
   "cell_type": "code",
   "execution_count": 4,
   "id": "4a27d2f0",
   "metadata": {},
   "outputs": [
    {
     "data": {
      "text/html": [
       "<div>\n",
       "<style scoped>\n",
       "    .dataframe tbody tr th:only-of-type {\n",
       "        vertical-align: middle;\n",
       "    }\n",
       "\n",
       "    .dataframe tbody tr th {\n",
       "        vertical-align: top;\n",
       "    }\n",
       "\n",
       "    .dataframe thead th {\n",
       "        text-align: right;\n",
       "    }\n",
       "</style>\n",
       "<table border=\"1\" class=\"dataframe\">\n",
       "  <thead>\n",
       "    <tr style=\"text-align: right;\">\n",
       "      <th></th>\n",
       "      <th>event_id</th>\n",
       "      <th>ad_id</th>\n",
       "      <th>user_id</th>\n",
       "      <th>timestamp</th>\n",
       "      <th>day_of_week</th>\n",
       "      <th>time_of_day</th>\n",
       "      <th>event_type</th>\n",
       "    </tr>\n",
       "  </thead>\n",
       "  <tbody>\n",
       "    <tr>\n",
       "      <th>0</th>\n",
       "      <td>1</td>\n",
       "      <td>197</td>\n",
       "      <td>2359b</td>\n",
       "      <td>2025-07-26 00:19:56</td>\n",
       "      <td>Saturday</td>\n",
       "      <td>Night</td>\n",
       "      <td>Like</td>\n",
       "    </tr>\n",
       "    <tr>\n",
       "      <th>1</th>\n",
       "      <td>2</td>\n",
       "      <td>51</td>\n",
       "      <td>f9c67</td>\n",
       "      <td>2025-06-15 08:28:07</td>\n",
       "      <td>Sunday</td>\n",
       "      <td>Morning</td>\n",
       "      <td>Share</td>\n",
       "    </tr>\n",
       "    <tr>\n",
       "      <th>2</th>\n",
       "      <td>3</td>\n",
       "      <td>46</td>\n",
       "      <td>5b868</td>\n",
       "      <td>2025-06-27 00:40:02</td>\n",
       "      <td>Friday</td>\n",
       "      <td>Night</td>\n",
       "      <td>Impression</td>\n",
       "    </tr>\n",
       "    <tr>\n",
       "      <th>3</th>\n",
       "      <td>4</td>\n",
       "      <td>166</td>\n",
       "      <td>3d440</td>\n",
       "      <td>2025-06-05 19:20:45</td>\n",
       "      <td>Thursday</td>\n",
       "      <td>Evening</td>\n",
       "      <td>Impression</td>\n",
       "    </tr>\n",
       "    <tr>\n",
       "      <th>4</th>\n",
       "      <td>5</td>\n",
       "      <td>52</td>\n",
       "      <td>68f1a</td>\n",
       "      <td>2025-07-22 08:30:29</td>\n",
       "      <td>Tuesday</td>\n",
       "      <td>Morning</td>\n",
       "      <td>Impression</td>\n",
       "    </tr>\n",
       "  </tbody>\n",
       "</table>\n",
       "</div>"
      ],
      "text/plain": [
       "   event_id  ad_id user_id            timestamp day_of_week time_of_day  \\\n",
       "0         1    197   2359b  2025-07-26 00:19:56    Saturday       Night   \n",
       "1         2     51   f9c67  2025-06-15 08:28:07      Sunday     Morning   \n",
       "2         3     46   5b868  2025-06-27 00:40:02      Friday       Night   \n",
       "3         4    166   3d440  2025-06-05 19:20:45    Thursday     Evening   \n",
       "4         5     52   68f1a  2025-07-22 08:30:29     Tuesday     Morning   \n",
       "\n",
       "   event_type  \n",
       "0        Like  \n",
       "1       Share  \n",
       "2  Impression  \n",
       "3  Impression  \n",
       "4  Impression  "
      ]
     },
     "execution_count": 4,
     "metadata": {},
     "output_type": "execute_result"
    }
   ],
   "source": [
    "# show first five rows of events\n",
    "events.head()"
   ]
  },
  {
   "cell_type": "markdown",
   "id": "9dc8647c",
   "metadata": {},
   "source": [
    "From `users_eda.ipynb` there appears to be a small portion of user ids which represent two different users. We first how to find what proportion of events consists of ad events involving any of these repeated user ids"
   ]
  },
  {
   "cell_type": "code",
   "execution_count": 13,
   "id": "36cbbda3",
   "metadata": {},
   "outputs": [
    {
     "name": "stdout",
     "output_type": "stream",
     "text": [
      "Ad events involving a repeat user id: 3967\n",
      "Proportion of ad events involving a repeat id: 0.99%\n"
     ]
    }
   ],
   "source": [
    "# find repeated user ids\n",
    "temp = pd.DataFrame(users['user_id'].value_counts() > 1)\n",
    "repeat_ids = list(temp[temp['count'] == True].index)\n",
    "\n",
    "# filter events for ad events involving a repeat ids\n",
    "repeat_events = events[events['user_id'].isin(repeat_ids)]\n",
    "print(f'Ad events involving a repeat user id: {len(repeat_events)}')\n",
    "print(f'Proportion of ad events involving a repeat id: {(100 * len(repeat_events) / len(events)):.2f}%')"
   ]
  },
  {
   "cell_type": "markdown",
   "id": "92c45784",
   "metadata": {},
   "source": [
    "The proportion of ad events involving one of these repeated ids is less than one percent. Therefore, we can reasonably remove the entries of the dataset involving these ids and without adding a significant amount of bias. "
   ]
  },
  {
   "cell_type": "code",
   "execution_count": 15,
   "id": "3e44710e",
   "metadata": {},
   "outputs": [
    {
     "name": "stdout",
     "output_type": "stream",
     "text": [
      "Number of ad events after removing repeat user_ids: 396033\n"
     ]
    }
   ],
   "source": [
    "# filter events to exclude repeat user_ids\n",
    "events = events[~events['user_id'].isin(repeat_ids)]\n",
    "\n",
    "# ensure correct number of events are left (should be 396033)\n",
    "print(f'Number of ad events after removing repeat user_ids: {len(events)}')"
   ]
  }
 ],
 "metadata": {
  "kernelspec": {
   "display_name": "Python 3",
   "language": "python",
   "name": "python3"
  },
  "language_info": {
   "codemirror_mode": {
    "name": "ipython",
    "version": 3
   },
   "file_extension": ".py",
   "mimetype": "text/x-python",
   "name": "python",
   "nbconvert_exporter": "python",
   "pygments_lexer": "ipython3",
   "version": "3.12.7"
  }
 },
 "nbformat": 4,
 "nbformat_minor": 5
}
