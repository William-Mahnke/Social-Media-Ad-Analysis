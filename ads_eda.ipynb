{
 "cells": [
  {
   "cell_type": "markdown",
   "id": "e57139b1",
   "metadata": {},
   "source": [
    "### EDA for `ads.csv`\n",
    "\n",
    "Performing exploratory data analysis for `ads.csv` to gain insight about the ads used in the campaigns"
   ]
  },
  {
   "cell_type": "code",
   "execution_count": 1,
   "id": "c730acc2",
   "metadata": {},
   "outputs": [],
   "source": [
    "# necessary libraries\n",
    "import pandas as pd\n",
    "import matplotlib.pyplot as plt\n",
    "import seaborn as sns\n",
    "import os"
   ]
  },
  {
   "cell_type": "code",
   "execution_count": 2,
   "id": "e41e1c02",
   "metadata": {},
   "outputs": [
    {
     "data": {
      "text/html": [
       "<div>\n",
       "<style scoped>\n",
       "    .dataframe tbody tr th:only-of-type {\n",
       "        vertical-align: middle;\n",
       "    }\n",
       "\n",
       "    .dataframe tbody tr th {\n",
       "        vertical-align: top;\n",
       "    }\n",
       "\n",
       "    .dataframe thead th {\n",
       "        text-align: right;\n",
       "    }\n",
       "</style>\n",
       "<table border=\"1\" class=\"dataframe\">\n",
       "  <thead>\n",
       "    <tr style=\"text-align: right;\">\n",
       "      <th></th>\n",
       "      <th>ad_id</th>\n",
       "      <th>campaign_id</th>\n",
       "      <th>ad_platform</th>\n",
       "      <th>ad_type</th>\n",
       "      <th>target_gender</th>\n",
       "      <th>target_age_group</th>\n",
       "      <th>target_interests</th>\n",
       "    </tr>\n",
       "  </thead>\n",
       "  <tbody>\n",
       "    <tr>\n",
       "      <th>0</th>\n",
       "      <td>1</td>\n",
       "      <td>28</td>\n",
       "      <td>Facebook</td>\n",
       "      <td>Video</td>\n",
       "      <td>Female</td>\n",
       "      <td>35-44</td>\n",
       "      <td>art, technology</td>\n",
       "    </tr>\n",
       "    <tr>\n",
       "      <th>1</th>\n",
       "      <td>2</td>\n",
       "      <td>33</td>\n",
       "      <td>Facebook</td>\n",
       "      <td>Stories</td>\n",
       "      <td>All</td>\n",
       "      <td>25-34</td>\n",
       "      <td>travel, photography</td>\n",
       "    </tr>\n",
       "    <tr>\n",
       "      <th>2</th>\n",
       "      <td>3</td>\n",
       "      <td>20</td>\n",
       "      <td>Instagram</td>\n",
       "      <td>Carousel</td>\n",
       "      <td>All</td>\n",
       "      <td>25-34</td>\n",
       "      <td>technology</td>\n",
       "    </tr>\n",
       "    <tr>\n",
       "      <th>3</th>\n",
       "      <td>4</td>\n",
       "      <td>28</td>\n",
       "      <td>Facebook</td>\n",
       "      <td>Stories</td>\n",
       "      <td>Female</td>\n",
       "      <td>25-34</td>\n",
       "      <td>news</td>\n",
       "    </tr>\n",
       "    <tr>\n",
       "      <th>4</th>\n",
       "      <td>5</td>\n",
       "      <td>24</td>\n",
       "      <td>Instagram</td>\n",
       "      <td>Image</td>\n",
       "      <td>Female</td>\n",
       "      <td>25-34</td>\n",
       "      <td>news</td>\n",
       "    </tr>\n",
       "  </tbody>\n",
       "</table>\n",
       "</div>"
      ],
      "text/plain": [
       "   ad_id  campaign_id ad_platform   ad_type target_gender target_age_group  \\\n",
       "0      1           28    Facebook     Video        Female            35-44   \n",
       "1      2           33    Facebook   Stories           All            25-34   \n",
       "2      3           20   Instagram  Carousel           All            25-34   \n",
       "3      4           28    Facebook   Stories        Female            25-34   \n",
       "4      5           24   Instagram     Image        Female            25-34   \n",
       "\n",
       "      target_interests  \n",
       "0      art, technology  \n",
       "1  travel, photography  \n",
       "2           technology  \n",
       "3                 news  \n",
       "4                 news  "
      ]
     },
     "execution_count": 2,
     "metadata": {},
     "output_type": "execute_result"
    }
   ],
   "source": [
    "# load ads.csv\n",
    "path = os.getcwd()\n",
    "ads = pd.read_csv(path + \"/data/ads.csv\")\n",
    "\n",
    "# display first few rows to confirm data loaded properly\n",
    "ads.head()"
   ]
  },
  {
   "cell_type": "code",
   "execution_count": 3,
   "id": "410caf1f",
   "metadata": {},
   "outputs": [
    {
     "name": "stdout",
     "output_type": "stream",
     "text": [
      "Number of missing values in users\n",
      "ad_id               0\n",
      "campaign_id         0\n",
      "ad_platform         0\n",
      "ad_type             0\n",
      "target_gender       0\n",
      "target_age_group    0\n",
      "target_interests    0\n",
      "dtype: int64\n",
      "\n",
      "<class 'pandas.core.frame.DataFrame'>\n",
      "RangeIndex: 200 entries, 0 to 199\n",
      "Data columns (total 7 columns):\n",
      " #   Column            Non-Null Count  Dtype \n",
      "---  ------            --------------  ----- \n",
      " 0   ad_id             200 non-null    int64 \n",
      " 1   campaign_id       200 non-null    int64 \n",
      " 2   ad_platform       200 non-null    object\n",
      " 3   ad_type           200 non-null    object\n",
      " 4   target_gender     200 non-null    object\n",
      " 5   target_age_group  200 non-null    object\n",
      " 6   target_interests  200 non-null    object\n",
      "dtypes: int64(2), object(5)\n",
      "memory usage: 11.1+ KB\n"
     ]
    }
   ],
   "source": [
    "# search for missing values in ads\n",
    "print(f\"Number of missing values in users\\n{ads.isna().sum()}\\n\")\n",
    "\n",
    "# drop any duplicate rows \n",
    "ads = ads.drop_duplicates()\n",
    "\n",
    "# get info for ads\n",
    "ads.info()"
   ]
  }
 ],
 "metadata": {
  "kernelspec": {
   "display_name": "Python 3",
   "language": "python",
   "name": "python3"
  },
  "language_info": {
   "codemirror_mode": {
    "name": "ipython",
    "version": 3
   },
   "file_extension": ".py",
   "mimetype": "text/x-python",
   "name": "python",
   "nbconvert_exporter": "python",
   "pygments_lexer": "ipython3",
   "version": "3.12.7"
  }
 },
 "nbformat": 4,
 "nbformat_minor": 5
}
